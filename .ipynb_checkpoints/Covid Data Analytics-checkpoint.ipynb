{
 "cells": [
  {
   "cell_type": "markdown",
   "metadata": {},
   "source": [
    "## Assignment 1 - COVID19 Analytics"
   ]
  },
  {
   "cell_type": "code",
   "execution_count": 2,
   "metadata": {},
   "outputs": [],
   "source": [
    "import pandas as pd\n",
    "import numpy as np\n",
    "import matplotlib.pyplot as plt\n",
    "import pylab as pl\n",
    "import seaborn as sns\n",
    "from sklearn.linear_model import LinearRegression\n",
    "\n",
    "from scipy.stats import pearsonr\n",
    "\n"
   ]
  },
  {
   "cell_type": "code",
   "execution_count": 3,
   "metadata": {},
   "outputs": [
    {
     "data": {
      "text/html": [
       "<div>\n",
       "<style scoped>\n",
       "    .dataframe tbody tr th:only-of-type {\n",
       "        vertical-align: middle;\n",
       "    }\n",
       "\n",
       "    .dataframe tbody tr th {\n",
       "        vertical-align: top;\n",
       "    }\n",
       "\n",
       "    .dataframe thead th {\n",
       "        text-align: right;\n",
       "    }\n",
       "</style>\n",
       "<table border=\"1\" class=\"dataframe\">\n",
       "  <thead>\n",
       "    <tr style=\"text-align: right;\">\n",
       "      <th></th>\n",
       "      <th>iso_code</th>\n",
       "      <th>continent</th>\n",
       "      <th>location</th>\n",
       "      <th>date</th>\n",
       "      <th>total_cases</th>\n",
       "      <th>new_cases</th>\n",
       "      <th>new_cases_smoothed</th>\n",
       "      <th>total_deaths</th>\n",
       "      <th>new_deaths</th>\n",
       "      <th>new_deaths_smoothed</th>\n",
       "      <th>...</th>\n",
       "      <th>aged_70_older</th>\n",
       "      <th>gdp_per_capita</th>\n",
       "      <th>extreme_poverty</th>\n",
       "      <th>cardiovasc_death_rate</th>\n",
       "      <th>diabetes_prevalence</th>\n",
       "      <th>female_smokers</th>\n",
       "      <th>male_smokers</th>\n",
       "      <th>handwashing_facilities</th>\n",
       "      <th>hospital_beds_per_thousand</th>\n",
       "      <th>life_expectancy</th>\n",
       "    </tr>\n",
       "  </thead>\n",
       "  <tbody>\n",
       "    <tr>\n",
       "      <th>38521</th>\n",
       "      <td>USA</td>\n",
       "      <td>North America</td>\n",
       "      <td>United States</td>\n",
       "      <td>2019-12-31</td>\n",
       "      <td>0.0</td>\n",
       "      <td>0.0</td>\n",
       "      <td>NaN</td>\n",
       "      <td>0.0</td>\n",
       "      <td>0.0</td>\n",
       "      <td>NaN</td>\n",
       "      <td>...</td>\n",
       "      <td>9.732</td>\n",
       "      <td>54225.446</td>\n",
       "      <td>1.2</td>\n",
       "      <td>151.089</td>\n",
       "      <td>10.79</td>\n",
       "      <td>19.1</td>\n",
       "      <td>24.6</td>\n",
       "      <td>NaN</td>\n",
       "      <td>2.77</td>\n",
       "      <td>78.86</td>\n",
       "    </tr>\n",
       "    <tr>\n",
       "      <th>38522</th>\n",
       "      <td>USA</td>\n",
       "      <td>North America</td>\n",
       "      <td>United States</td>\n",
       "      <td>2020-01-01</td>\n",
       "      <td>0.0</td>\n",
       "      <td>0.0</td>\n",
       "      <td>NaN</td>\n",
       "      <td>0.0</td>\n",
       "      <td>0.0</td>\n",
       "      <td>NaN</td>\n",
       "      <td>...</td>\n",
       "      <td>9.732</td>\n",
       "      <td>54225.446</td>\n",
       "      <td>1.2</td>\n",
       "      <td>151.089</td>\n",
       "      <td>10.79</td>\n",
       "      <td>19.1</td>\n",
       "      <td>24.6</td>\n",
       "      <td>NaN</td>\n",
       "      <td>2.77</td>\n",
       "      <td>78.86</td>\n",
       "    </tr>\n",
       "    <tr>\n",
       "      <th>38523</th>\n",
       "      <td>USA</td>\n",
       "      <td>North America</td>\n",
       "      <td>United States</td>\n",
       "      <td>2020-01-02</td>\n",
       "      <td>0.0</td>\n",
       "      <td>0.0</td>\n",
       "      <td>NaN</td>\n",
       "      <td>0.0</td>\n",
       "      <td>0.0</td>\n",
       "      <td>NaN</td>\n",
       "      <td>...</td>\n",
       "      <td>9.732</td>\n",
       "      <td>54225.446</td>\n",
       "      <td>1.2</td>\n",
       "      <td>151.089</td>\n",
       "      <td>10.79</td>\n",
       "      <td>19.1</td>\n",
       "      <td>24.6</td>\n",
       "      <td>NaN</td>\n",
       "      <td>2.77</td>\n",
       "      <td>78.86</td>\n",
       "    </tr>\n",
       "    <tr>\n",
       "      <th>38524</th>\n",
       "      <td>USA</td>\n",
       "      <td>North America</td>\n",
       "      <td>United States</td>\n",
       "      <td>2020-01-03</td>\n",
       "      <td>0.0</td>\n",
       "      <td>0.0</td>\n",
       "      <td>NaN</td>\n",
       "      <td>0.0</td>\n",
       "      <td>0.0</td>\n",
       "      <td>NaN</td>\n",
       "      <td>...</td>\n",
       "      <td>9.732</td>\n",
       "      <td>54225.446</td>\n",
       "      <td>1.2</td>\n",
       "      <td>151.089</td>\n",
       "      <td>10.79</td>\n",
       "      <td>19.1</td>\n",
       "      <td>24.6</td>\n",
       "      <td>NaN</td>\n",
       "      <td>2.77</td>\n",
       "      <td>78.86</td>\n",
       "    </tr>\n",
       "    <tr>\n",
       "      <th>38525</th>\n",
       "      <td>USA</td>\n",
       "      <td>North America</td>\n",
       "      <td>United States</td>\n",
       "      <td>2020-01-04</td>\n",
       "      <td>0.0</td>\n",
       "      <td>0.0</td>\n",
       "      <td>NaN</td>\n",
       "      <td>0.0</td>\n",
       "      <td>0.0</td>\n",
       "      <td>NaN</td>\n",
       "      <td>...</td>\n",
       "      <td>9.732</td>\n",
       "      <td>54225.446</td>\n",
       "      <td>1.2</td>\n",
       "      <td>151.089</td>\n",
       "      <td>10.79</td>\n",
       "      <td>19.1</td>\n",
       "      <td>24.6</td>\n",
       "      <td>NaN</td>\n",
       "      <td>2.77</td>\n",
       "      <td>78.86</td>\n",
       "    </tr>\n",
       "    <tr>\n",
       "      <th>...</th>\n",
       "      <td>...</td>\n",
       "      <td>...</td>\n",
       "      <td>...</td>\n",
       "      <td>...</td>\n",
       "      <td>...</td>\n",
       "      <td>...</td>\n",
       "      <td>...</td>\n",
       "      <td>...</td>\n",
       "      <td>...</td>\n",
       "      <td>...</td>\n",
       "      <td>...</td>\n",
       "      <td>...</td>\n",
       "      <td>...</td>\n",
       "      <td>...</td>\n",
       "      <td>...</td>\n",
       "      <td>...</td>\n",
       "      <td>...</td>\n",
       "      <td>...</td>\n",
       "      <td>...</td>\n",
       "      <td>...</td>\n",
       "      <td>...</td>\n",
       "    </tr>\n",
       "    <tr>\n",
       "      <th>38762</th>\n",
       "      <td>USA</td>\n",
       "      <td>North America</td>\n",
       "      <td>United States</td>\n",
       "      <td>2020-08-28</td>\n",
       "      <td>5867785.0</td>\n",
       "      <td>45909.0</td>\n",
       "      <td>41991.143</td>\n",
       "      <td>180824.0</td>\n",
       "      <td>1110.0</td>\n",
       "      <td>938.429</td>\n",
       "      <td>...</td>\n",
       "      <td>9.732</td>\n",
       "      <td>54225.446</td>\n",
       "      <td>1.2</td>\n",
       "      <td>151.089</td>\n",
       "      <td>10.79</td>\n",
       "      <td>19.1</td>\n",
       "      <td>24.6</td>\n",
       "      <td>NaN</td>\n",
       "      <td>2.77</td>\n",
       "      <td>78.86</td>\n",
       "    </tr>\n",
       "    <tr>\n",
       "      <th>38763</th>\n",
       "      <td>USA</td>\n",
       "      <td>North America</td>\n",
       "      <td>United States</td>\n",
       "      <td>2020-08-29</td>\n",
       "      <td>5917439.0</td>\n",
       "      <td>49654.0</td>\n",
       "      <td>41958.857</td>\n",
       "      <td>181773.0</td>\n",
       "      <td>949.0</td>\n",
       "      <td>909.571</td>\n",
       "      <td>...</td>\n",
       "      <td>9.732</td>\n",
       "      <td>54225.446</td>\n",
       "      <td>1.2</td>\n",
       "      <td>151.089</td>\n",
       "      <td>10.79</td>\n",
       "      <td>19.1</td>\n",
       "      <td>24.6</td>\n",
       "      <td>NaN</td>\n",
       "      <td>2.77</td>\n",
       "      <td>78.86</td>\n",
       "    </tr>\n",
       "    <tr>\n",
       "      <th>38764</th>\n",
       "      <td>USA</td>\n",
       "      <td>North America</td>\n",
       "      <td>United States</td>\n",
       "      <td>2020-08-30</td>\n",
       "      <td>5961582.0</td>\n",
       "      <td>44143.0</td>\n",
       "      <td>41925.286</td>\n",
       "      <td>182779.0</td>\n",
       "      <td>1006.0</td>\n",
       "      <td>916.714</td>\n",
       "      <td>...</td>\n",
       "      <td>9.732</td>\n",
       "      <td>54225.446</td>\n",
       "      <td>1.2</td>\n",
       "      <td>151.089</td>\n",
       "      <td>10.79</td>\n",
       "      <td>19.1</td>\n",
       "      <td>24.6</td>\n",
       "      <td>NaN</td>\n",
       "      <td>2.77</td>\n",
       "      <td>78.86</td>\n",
       "    </tr>\n",
       "    <tr>\n",
       "      <th>38765</th>\n",
       "      <td>USA</td>\n",
       "      <td>North America</td>\n",
       "      <td>United States</td>\n",
       "      <td>2020-08-31</td>\n",
       "      <td>5997163.0</td>\n",
       "      <td>35581.0</td>\n",
       "      <td>42078.857</td>\n",
       "      <td>183069.0</td>\n",
       "      <td>290.0</td>\n",
       "      <td>894.714</td>\n",
       "      <td>...</td>\n",
       "      <td>9.732</td>\n",
       "      <td>54225.446</td>\n",
       "      <td>1.2</td>\n",
       "      <td>151.089</td>\n",
       "      <td>10.79</td>\n",
       "      <td>19.1</td>\n",
       "      <td>24.6</td>\n",
       "      <td>NaN</td>\n",
       "      <td>2.77</td>\n",
       "      <td>78.86</td>\n",
       "    </tr>\n",
       "    <tr>\n",
       "      <th>38766</th>\n",
       "      <td>USA</td>\n",
       "      <td>North America</td>\n",
       "      <td>United States</td>\n",
       "      <td>2020-09-01</td>\n",
       "      <td>6031013.0</td>\n",
       "      <td>33850.0</td>\n",
       "      <td>41443.429</td>\n",
       "      <td>183598.0</td>\n",
       "      <td>529.0</td>\n",
       "      <td>902.714</td>\n",
       "      <td>...</td>\n",
       "      <td>9.732</td>\n",
       "      <td>54225.446</td>\n",
       "      <td>1.2</td>\n",
       "      <td>151.089</td>\n",
       "      <td>10.79</td>\n",
       "      <td>19.1</td>\n",
       "      <td>24.6</td>\n",
       "      <td>NaN</td>\n",
       "      <td>2.77</td>\n",
       "      <td>78.86</td>\n",
       "    </tr>\n",
       "  </tbody>\n",
       "</table>\n",
       "<p>246 rows × 40 columns</p>\n",
       "</div>"
      ],
      "text/plain": [
       "      iso_code      continent       location        date  total_cases  \\\n",
       "38521      USA  North America  United States  2019-12-31          0.0   \n",
       "38522      USA  North America  United States  2020-01-01          0.0   \n",
       "38523      USA  North America  United States  2020-01-02          0.0   \n",
       "38524      USA  North America  United States  2020-01-03          0.0   \n",
       "38525      USA  North America  United States  2020-01-04          0.0   \n",
       "...        ...            ...            ...         ...          ...   \n",
       "38762      USA  North America  United States  2020-08-28    5867785.0   \n",
       "38763      USA  North America  United States  2020-08-29    5917439.0   \n",
       "38764      USA  North America  United States  2020-08-30    5961582.0   \n",
       "38765      USA  North America  United States  2020-08-31    5997163.0   \n",
       "38766      USA  North America  United States  2020-09-01    6031013.0   \n",
       "\n",
       "       new_cases  new_cases_smoothed  total_deaths  new_deaths  \\\n",
       "38521        0.0                 NaN           0.0         0.0   \n",
       "38522        0.0                 NaN           0.0         0.0   \n",
       "38523        0.0                 NaN           0.0         0.0   \n",
       "38524        0.0                 NaN           0.0         0.0   \n",
       "38525        0.0                 NaN           0.0         0.0   \n",
       "...          ...                 ...           ...         ...   \n",
       "38762    45909.0           41991.143      180824.0      1110.0   \n",
       "38763    49654.0           41958.857      181773.0       949.0   \n",
       "38764    44143.0           41925.286      182779.0      1006.0   \n",
       "38765    35581.0           42078.857      183069.0       290.0   \n",
       "38766    33850.0           41443.429      183598.0       529.0   \n",
       "\n",
       "       new_deaths_smoothed  ...  aged_70_older  gdp_per_capita  \\\n",
       "38521                  NaN  ...          9.732       54225.446   \n",
       "38522                  NaN  ...          9.732       54225.446   \n",
       "38523                  NaN  ...          9.732       54225.446   \n",
       "38524                  NaN  ...          9.732       54225.446   \n",
       "38525                  NaN  ...          9.732       54225.446   \n",
       "...                    ...  ...            ...             ...   \n",
       "38762              938.429  ...          9.732       54225.446   \n",
       "38763              909.571  ...          9.732       54225.446   \n",
       "38764              916.714  ...          9.732       54225.446   \n",
       "38765              894.714  ...          9.732       54225.446   \n",
       "38766              902.714  ...          9.732       54225.446   \n",
       "\n",
       "       extreme_poverty  cardiovasc_death_rate  diabetes_prevalence  \\\n",
       "38521              1.2                151.089                10.79   \n",
       "38522              1.2                151.089                10.79   \n",
       "38523              1.2                151.089                10.79   \n",
       "38524              1.2                151.089                10.79   \n",
       "38525              1.2                151.089                10.79   \n",
       "...                ...                    ...                  ...   \n",
       "38762              1.2                151.089                10.79   \n",
       "38763              1.2                151.089                10.79   \n",
       "38764              1.2                151.089                10.79   \n",
       "38765              1.2                151.089                10.79   \n",
       "38766              1.2                151.089                10.79   \n",
       "\n",
       "       female_smokers  male_smokers  handwashing_facilities  \\\n",
       "38521            19.1          24.6                     NaN   \n",
       "38522            19.1          24.6                     NaN   \n",
       "38523            19.1          24.6                     NaN   \n",
       "38524            19.1          24.6                     NaN   \n",
       "38525            19.1          24.6                     NaN   \n",
       "...               ...           ...                     ...   \n",
       "38762            19.1          24.6                     NaN   \n",
       "38763            19.1          24.6                     NaN   \n",
       "38764            19.1          24.6                     NaN   \n",
       "38765            19.1          24.6                     NaN   \n",
       "38766            19.1          24.6                     NaN   \n",
       "\n",
       "       hospital_beds_per_thousand  life_expectancy  \n",
       "38521                        2.77            78.86  \n",
       "38522                        2.77            78.86  \n",
       "38523                        2.77            78.86  \n",
       "38524                        2.77            78.86  \n",
       "38525                        2.77            78.86  \n",
       "...                           ...              ...  \n",
       "38762                        2.77            78.86  \n",
       "38763                        2.77            78.86  \n",
       "38764                        2.77            78.86  \n",
       "38765                        2.77            78.86  \n",
       "38766                        2.77            78.86  \n",
       "\n",
       "[246 rows x 40 columns]"
      ]
     },
     "execution_count": 3,
     "metadata": {},
     "output_type": "execute_result"
    }
   ],
   "source": [
    "df = pd.read_csv(\"COVID19.csv\")\n",
    "df.loc[df['iso_code'] == 'USA']"
   ]
  },
  {
   "cell_type": "code",
   "execution_count": 4,
   "metadata": {},
   "outputs": [
    {
     "data": {
      "text/plain": [
       "Index(['iso_code', 'continent', 'location', 'date', 'total_cases', 'new_cases',\n",
       "       'new_cases_smoothed', 'total_deaths', 'new_deaths',\n",
       "       'new_deaths_smoothed', 'total_cases_per_million',\n",
       "       'new_cases_per_million', 'new_cases_smoothed_per_million',\n",
       "       'total_deaths_per_million', 'new_deaths_per_million',\n",
       "       'new_deaths_smoothed_per_million', 'new_tests', 'total_tests',\n",
       "       'total_tests_per_thousand', 'new_tests_per_thousand',\n",
       "       'new_tests_smoothed', 'new_tests_smoothed_per_thousand',\n",
       "       'tests_per_case', 'positive_rate', 'tests_units', 'stringency_index',\n",
       "       'population', 'population_density', 'median_age', 'aged_65_older',\n",
       "       'aged_70_older', 'gdp_per_capita', 'extreme_poverty',\n",
       "       'cardiovasc_death_rate', 'diabetes_prevalence', 'female_smokers',\n",
       "       'male_smokers', 'handwashing_facilities', 'hospital_beds_per_thousand',\n",
       "       'life_expectancy'],\n",
       "      dtype='object')"
      ]
     },
     "execution_count": 4,
     "metadata": {},
     "output_type": "execute_result"
    }
   ],
   "source": [
    "df.columns"
   ]
  },
  {
   "cell_type": "markdown",
   "metadata": {},
   "source": [
    "## Question & Hyptothesis\n",
    "\n"
   ]
  },
  {
   "cell_type": "code",
   "execution_count": null,
   "metadata": {},
   "outputs": [],
   "source": [
    "# world_df = df[df['iso_code']=='OWID_WRL']\n",
    "# world_df\n",
    "# world_df.set_index('date', inplace=True)\n",
    "# world_df['total_cases'].plot()\n"
   ]
  },
  {
   "cell_type": "markdown",
   "metadata": {},
   "source": [
    "## Relationship between two static variables"
   ]
  },
  {
   "cell_type": "code",
   "execution_count": 85,
   "metadata": {},
   "outputs": [],
   "source": [
    "def relate(a,b, outlier_list=[], show_detail = False):\n",
    "    print(\"relationship between:\", a,\"&\", b)\n",
    "    df1 = df\n",
    "    original_list = df1.iso_code.unique()\n",
    "    df1 = df1[df1[a].notna()]\n",
    "    df1 = df1[df1[b].notna()]\n",
    "    df1 = df1[df1['date'] == '2020-09-01']\n",
    "    df1 = df1[df1['iso_code'] != 'OWID_WRL']\n",
    "    \n",
    "    if outlier_list:\n",
    "        for code in outlier_list:\n",
    "            df1 = df1[df1['iso_code'] != code]\n",
    "    \n",
    "    filtered_list = df1.iso_code.unique()\n",
    "    \n",
    "    deleted_countries = list(set(original_list)-set(filtered_list))\n",
    "    \n",
    "    df1 = df1.sort_values(by=[a], ascending=False)\n",
    "    if show_detail:\n",
    "        print(df1)\n",
    "    print(len(deleted_countries), \"countries not accounted for\")\n",
    "\n",
    "    sns.relplot(x=a, y=b, data=df1)\n",
    "    X = df1[a]\n",
    "    Y = df1[b]\n",
    "    \n",
    "    corr, _ = pearsonr(X, Y)\n",
    "    print('Pearsons correlation: %.3f' % corr)\n",
    "    \n",
    "#     X_a = [[i, x] for i, x in enumerate(X)]\n",
    "#     Y_b = [[i, x] for i, x in enumerate(Y)]\n",
    "#     lr = LinearRegression()\n",
    "#     lr.fit(X_a, Y_b)\n",
    "#     y_pred = lr.predict(X_a)\n",
    "#     plt.scatter(X_a,Y_b)\n",
    "#     plt.plot(X_a,y_pred)\n",
    "#     plt.show()\n"
   ]
  },
  {
   "cell_type": "code",
   "execution_count": 86,
   "metadata": {},
   "outputs": [],
   "source": [
    "# relate(\"gdp_per_capita\",\"total_cases_per_million\",['LUX', 'IRL','NOR','QAT', 'SGP'], show_detail = False)"
   ]
  },
  {
   "cell_type": "code",
   "execution_count": 87,
   "metadata": {},
   "outputs": [
    {
     "name": "stdout",
     "output_type": "stream",
     "text": [
      "relationship between: gdp_per_capita & extreme_poverty\n",
      "95 countries not accounted for\n",
      "Pearsons correlation: -0.559\n"
     ]
    },
    {
     "data": {
      "image/png": "[encoded data removed]",
      "text/plain": [
       "<Figure size 360x360 with 1 Axes>"
      ]
     },
     "metadata": {
      "needs_background": "light"
     },
     "output_type": "display_data"
    }
   ],
   "source": [
    "relate(\"gdp_per_capita\",\"extreme_poverty\",['LUX', 'IRL','NOR'])"
   ]
  },
  {
   "cell_type": "code",
   "execution_count": 88,
   "metadata": {},
   "outputs": [
    {
     "name": "stdout",
     "output_type": "stream",
     "text": [
      "relationship between: gdp_per_capita & diabetes_prevalence\n",
      "38 countries not accounted for\n",
      "Pearsons correlation: 0.294\n"
     ]
    },
    {
     "data": {
      "image/png": "[encoded data removed]",
      "text/plain": [
       "<Figure size 360x360 with 1 Axes>"
      ]
     },
     "metadata": {
      "needs_background": "light"
     },
     "output_type": "display_data"
    }
   ],
   "source": [
    "relate(\"gdp_per_capita\",\"diabetes_prevalence\",['QAT','LUX', 'IRL','NOR','SGP'])"
   ]
  },
  {
   "cell_type": "code",
   "execution_count": 89,
   "metadata": {},
   "outputs": [
    {
     "name": "stdout",
     "output_type": "stream",
     "text": [
      "relationship between: gdp_per_capita & aged_70_older\n",
      "40 countries not accounted for\n",
      "Pearsons correlation: 0.572\n"
     ]
    },
    {
     "data": {
      "image/png": "[encoded data removed]",
      "text/plain": [
       "<Figure size 360x360 with 1 Axes>"
      ]
     },
     "metadata": {
      "needs_background": "light"
     },
     "output_type": "display_data"
    }
   ],
   "source": [
    "relate(\"gdp_per_capita\",\"aged_70_older\",['QAT'])"
   ]
  },
  {
   "cell_type": "code",
   "execution_count": 90,
   "metadata": {},
   "outputs": [
    {
     "name": "stdout",
     "output_type": "stream",
     "text": [
      "relationship between: gdp_per_capita & life_expectancy\n",
      "33 countries not accounted for\n",
      "Pearsons correlation: 0.709\n"
     ]
    },
    {
     "data": {
      "image/png": "[encoded data removed]",
      "text/plain": [
       "<Figure size 360x360 with 1 Axes>"
      ]
     },
     "metadata": {
      "needs_background": "light"
     },
     "output_type": "display_data"
    }
   ],
   "source": [
    "relate(\"gdp_per_capita\",\"life_expectancy\",['QAT'])"
   ]
  },
  {
   "cell_type": "code",
   "execution_count": 139,
   "metadata": {},
   "outputs": [
    {
     "name": "stdout",
     "output_type": "stream",
     "text": [
      "relationship between: population_density & total_cases_per_million\n",
      "18 countries not accounted for\n",
      "Pearsons correlation: 0.245\n"
     ]
    },
    {
     "data": {
      "image/png": "[encoded data removed]",
      "text/plain": [
       "<Figure size 360x360 with 1 Axes>"
      ]
     },
     "metadata": {
      "needs_background": "light"
     },
     "output_type": "display_data"
    }
   ],
   "source": [
    "relate(\"population_density\",\"total_cases_per_million\",['MCO','SGP','GIB'])"
   ]
  },
  {
   "cell_type": "code",
   "execution_count": 116,
   "metadata": {},
   "outputs": [],
   "source": [
    "def most_correlated(a):\n",
    "    li = []\n",
    "    for col in df.columns:\n",
    "        if col == 'iso_code' or col == 'continent' or col == 'location' or col == 'date' or col == a:\n",
    "            continue\n",
    "        df1 = df\n",
    "        df1 = df1[df1[a].notna()]\n",
    "        df1 = df1[df1[col].notna()]\n",
    "        df1 = df1[df1['date'] == '2020-09-01']\n",
    "        df1 = df1[df1['iso_code'] != 'OWID_WRL']\n",
    "\n",
    "        X = df1[a]\n",
    "        Y = df1[col]\n",
    "        if len(X) == 0:\n",
    "            continue\n",
    "        corr, _ = pearsonr(X, Y)\n",
    "        corr = float(str(round(corr, 3)))\n",
    "        li.append([corr,col])\n",
    "#         print('Pearsons correlation: %.3f' % corr)\n",
    "    li = sorted(li, key=lambda x: abs(x[0]))\n",
    "    return li[::-1]"
   ]
  },
  {
   "cell_type": "code",
   "execution_count": 114,
   "metadata": {},
   "outputs": [
    {
     "name": "stdout",
     "output_type": "stream",
     "text": [
      "[[0.684, 'life_expectancy'], [0.655, 'handwashing_facilities'], [0.642, 'median_age'], [-0.505, 'extreme_poverty'], [0.5, 'aged_65_older'], [0.493, 'total_cases_per_million'], [0.492, 'aged_70_older'], [-0.466, 'cardiovasc_death_rate'], [0.35, 'female_smokers'], [0.298, 'population_density'], [0.298, 'total_deaths_per_million'], [0.297, 'hospital_beds_per_thousand'], [0.265, 'diabetes_prevalence'], [0.217, 'new_cases_per_million'], [0.114, 'total_deaths'], [0.086, 'total_cases'], [-0.085, 'male_smokers'], [0.073, 'new_cases_smoothed_per_million'], [-0.057, 'population'], [-0.056, 'new_deaths_per_million'], [-0.044, 'new_deaths_smoothed_per_million'], [0.016, 'new_deaths_smoothed'], [0.012, 'new_cases_smoothed'], [0.005, 'new_cases'], [0.003, 'new_deaths']]\n"
     ]
    }
   ],
   "source": [
    "li = most_correlated('gdp_per_capita')\n",
    "print(li)"
   ]
  },
  {
   "cell_type": "code",
   "execution_count": 117,
   "metadata": {},
   "outputs": [
    {
     "name": "stdout",
     "output_type": "stream",
     "text": [
      "[[0.847, 'median_age'], [0.828, 'handwashing_facilities'], [-0.755, 'extreme_poverty'], [0.73, 'aged_65_older'], [0.717, 'aged_70_older'], [0.684, 'gdp_per_capita'], [0.517, 'female_smokers'], [-0.476, 'cardiovasc_death_rate'], [0.475, 'hospital_beds_per_thousand'], [0.351, 'total_cases_per_million'], [0.35, 'total_deaths_per_million'], [0.318, 'diabetes_prevalence'], [0.303, 'new_cases_per_million'], [0.26, 'new_cases_smoothed_per_million'], [0.201, 'population_density'], [0.162, 'new_deaths_smoothed_per_million'], [0.133, 'new_deaths_per_million'], [0.103, 'total_deaths'], [0.072, 'male_smokers'], [0.056, 'total_cases'], [0.036, 'new_deaths_smoothed'], [0.036, 'new_deaths'], [-0.027, 'population'], [0.026, 'new_cases_smoothed'], [0.023, 'new_cases']]\n"
     ]
    }
   ],
   "source": [
    "li = most_correlated('life_expectancy')\n",
    "print(li)"
   ]
  },
  {
   "cell_type": "code",
   "execution_count": 118,
   "metadata": {},
   "outputs": [
    {
     "name": "stdout",
     "output_type": "stream",
     "text": [
      "[[0.556, 'total_cases_per_million'], [0.517, 'new_cases_per_million'], [0.427, 'total_deaths'], [0.404, 'new_deaths_smoothed_per_million'], [0.358, 'handwashing_facilities'], [0.35, 'life_expectancy'], [-0.344, 'cardiovasc_death_rate'], [0.325, 'aged_70_older'], [-0.324, 'extreme_poverty'], [0.317, 'aged_65_older'], [0.306, 'median_age'], [0.306, 'new_cases_smoothed_per_million'], [0.302, 'female_smokers'], [0.3, 'new_deaths_smoothed'], [0.3, 'total_cases'], [0.298, 'gdp_per_capita'], [0.291, 'new_deaths'], [0.206, 'new_cases_smoothed'], [0.196, 'new_cases'], [0.189, 'new_deaths_per_million'], [-0.147, 'male_smokers'], [-0.069, 'diabetes_prevalence'], [-0.04, 'population_density'], [0.038, 'hospital_beds_per_thousand'], [0.008, 'population']]\n"
     ]
    }
   ],
   "source": [
    "li = most_correlated('total_deaths_per_million')\n",
    "print(li)"
   ]
  },
  {
   "cell_type": "code",
   "execution_count": 119,
   "metadata": {},
   "outputs": [
    {
     "name": "stdout",
     "output_type": "stream",
     "text": [
      "[[0.536, 'new_cases_smoothed_per_million'], [0.517, 'total_deaths_per_million'], [0.468, 'total_cases_per_million'], [0.362, 'handwashing_facilities'], [0.303, 'life_expectancy'], [-0.278, 'extreme_poverty'], [0.25, 'new_deaths_smoothed_per_million'], [-0.217, 'cardiovasc_death_rate'], [0.217, 'gdp_per_capita'], [0.172, 'diabetes_prevalence'], [0.149, 'female_smokers'], [0.143, 'median_age'], [0.128, 'new_deaths_per_million'], [0.128, 'new_deaths'], [0.123, 'new_deaths_smoothed'], [0.119, 'new_cases'], [0.113, 'total_cases'], [0.11, 'population_density'], [0.108, 'new_cases_smoothed'], [0.105, 'total_deaths'], [0.07, 'aged_65_older'], [0.065, 'hospital_beds_per_thousand'], [0.059, 'aged_70_older'], [-0.034, 'male_smokers'], [-0.03, 'population']]\n"
     ]
    }
   ],
   "source": [
    "li = most_correlated('new_cases_per_million')\n",
    "print(li)"
   ]
  },
  {
   "cell_type": "code",
   "execution_count": 209,
   "metadata": {},
   "outputs": [],
   "source": [
    "def rank_independent_variable(a):\n",
    "    df1 = df\n",
    "    df1 = df1[df1[a].notna()]\n",
    "    df1 = df1[df1['date'] == '2020-09-01']\n",
    "    df1 = df1[df1['iso_code'] != 'OWID_WRL']\n",
    "    df1 = df1.sort_values(by=[a], ascending=False)\n",
    "    return list(df1['iso_code'])"
   ]
  },
  {
   "cell_type": "code",
   "execution_count": 210,
   "metadata": {},
   "outputs": [
    {
     "data": {
      "text/plain": [
       "['MCO',\n",
       " 'JPN',\n",
       " 'KOR',\n",
       " 'BLR',\n",
       " 'UKR',\n",
       " 'RUS',\n",
       " 'DEU',\n",
       " 'BGR',\n",
       " 'AUT',\n",
       " 'HUN',\n",
       " 'MNG',\n",
       " 'ROU',\n",
       " 'KAZ',\n",
       " 'CZE',\n",
       " 'POL',\n",
       " 'LTU',\n",
       " 'GAB',\n",
       " 'FRA',\n",
       " 'TLS',\n",
       " 'SVK',\n",
       " 'MDA',\n",
       " 'BRB',\n",
       " 'BEL',\n",
       " 'SRB',\n",
       " 'LVA',\n",
       " 'HRV',\n",
       " 'CUB',\n",
       " 'ARG',\n",
       " 'TJK',\n",
       " 'AZE',\n",
       " 'EST',\n",
       " 'CHE',\n",
       " 'LUX',\n",
       " 'SVN',\n",
       " 'KGZ',\n",
       " 'MLT',\n",
       " 'CHN',\n",
       " 'MKD',\n",
       " 'GRC',\n",
       " 'ARM',\n",
       " 'UZB',\n",
       " 'MNE',\n",
       " 'AUS',\n",
       " 'ATG',\n",
       " 'SMR',\n",
       " 'DMA',\n",
       " 'GRD',\n",
       " 'LBY',\n",
       " 'LKA',\n",
       " 'SYC',\n",
       " 'NOR',\n",
       " 'BIH',\n",
       " 'MUS',\n",
       " 'CYP',\n",
       " 'PRT',\n",
       " 'NLD',\n",
       " 'FIN',\n",
       " 'ITA',\n",
       " 'SUR',\n",
       " 'TTO',\n",
       " 'ISR',\n",
       " 'IRL',\n",
       " 'ISL',\n",
       " 'LBN',\n",
       " 'BHS',\n",
       " 'STP',\n",
       " 'ALB',\n",
       " 'TUR',\n",
       " 'URY',\n",
       " 'USA',\n",
       " 'SAU',\n",
       " 'BRN',\n",
       " 'NZL',\n",
       " 'VCT',\n",
       " 'VNM',\n",
       " 'GEO',\n",
       " 'GBR',\n",
       " 'DNK',\n",
       " 'CAN',\n",
       " 'SGP',\n",
       " 'LIE',\n",
       " 'ZAF',\n",
       " 'PAN',\n",
       " 'TUN',\n",
       " 'FJI',\n",
       " 'KNA',\n",
       " 'SWE',\n",
       " 'BRA',\n",
       " 'COM',\n",
       " 'CHL',\n",
       " 'GNQ',\n",
       " 'SWZ',\n",
       " 'CPV',\n",
       " 'THA',\n",
       " 'BHR',\n",
       " 'KWT',\n",
       " 'ZMB',\n",
       " 'MYS',\n",
       " 'DZA',\n",
       " 'BWA',\n",
       " 'COL',\n",
       " 'ZWE',\n",
       " 'JAM',\n",
       " 'BTN',\n",
       " 'PER',\n",
       " 'OMN',\n",
       " 'EGY',\n",
       " 'GUY',\n",
       " 'DOM',\n",
       " 'ECU',\n",
       " 'LAO',\n",
       " 'SYR',\n",
       " 'IRN',\n",
       " 'KEN',\n",
       " 'IRQ',\n",
       " 'DJI',\n",
       " 'JOR',\n",
       " 'MEX',\n",
       " 'LCA',\n",
       " 'CMR',\n",
       " 'SLV',\n",
       " 'PRY',\n",
       " 'MWI',\n",
       " 'BLZ',\n",
       " 'QAT',\n",
       " 'ARE',\n",
       " 'CRI',\n",
       " 'GMB',\n",
       " 'MAR',\n",
       " 'BOL',\n",
       " 'IDN',\n",
       " 'PHL',\n",
       " 'CAF',\n",
       " 'SOM',\n",
       " 'GHA',\n",
       " 'MMR',\n",
       " 'NIC',\n",
       " 'BGD',\n",
       " 'VEN',\n",
       " 'LBR',\n",
       " 'SDN',\n",
       " 'BDI',\n",
       " 'KHM',\n",
       " 'HND',\n",
       " 'ERI',\n",
       " 'YEM',\n",
       " 'TZA',\n",
       " 'TGO',\n",
       " 'MOZ',\n",
       " 'HTI',\n",
       " 'GTM',\n",
       " 'PAK',\n",
       " 'IND',\n",
       " 'UGA',\n",
       " 'BEN',\n",
       " 'AFG',\n",
       " 'BFA',\n",
       " 'ETH',\n",
       " 'GIN',\n",
       " 'NER',\n",
       " 'NPL',\n",
       " 'MDG',\n",
       " 'MLI']"
      ]
     },
     "execution_count": 210,
     "metadata": {},
     "output_type": "execute_result"
    }
   ],
   "source": []
  },
  {
   "cell_type": "code",
   "execution_count": 123,
   "metadata": {},
   "outputs": [
    {
     "data": {
      "text/plain": [
       "Index(['iso_code', 'continent', 'location', 'date', 'total_cases', 'new_cases',\n",
       "       'new_cases_smoothed', 'total_deaths', 'new_deaths',\n",
       "       'new_deaths_smoothed', 'total_cases_per_million',\n",
       "       'new_cases_per_million', 'new_cases_smoothed_per_million',\n",
       "       'total_deaths_per_million', 'new_deaths_per_million',\n",
       "       'new_deaths_smoothed_per_million', 'new_tests', 'total_tests',\n",
       "       'total_tests_per_thousand', 'new_tests_per_thousand',\n",
       "       'new_tests_smoothed', 'new_tests_smoothed_per_thousand',\n",
       "       'tests_per_case', 'positive_rate', 'tests_units', 'stringency_index',\n",
       "       'population', 'population_density', 'median_age', 'aged_65_older',\n",
       "       'aged_70_older', 'gdp_per_capita', 'extreme_poverty',\n",
       "       'cardiovasc_death_rate', 'diabetes_prevalence', 'female_smokers',\n",
       "       'male_smokers', 'handwashing_facilities', 'hospital_beds_per_thousand',\n",
       "       'life_expectancy'],\n",
       "      dtype='object')"
      ]
     },
     "execution_count": 123,
     "metadata": {},
     "output_type": "execute_result"
    }
   ],
   "source": [
    "df.columns"
   ]
  },
  {
   "cell_type": "code",
   "execution_count": 216,
   "metadata": {},
   "outputs": [
    {
     "name": "stdout",
     "output_type": "stream",
     "text": [
      "['QAT', 'LUX', 'SGP', 'BRN', 'IRL', 'ARE', 'KWT', 'NOR', 'CHE', 'SMR']\n",
      "10\n",
      "175\n"
     ]
    }
   ],
   "source": [
    "df['death_rate'] = (df['total_deaths'] / df['total_cases'])\n",
    "lis = []\n",
    "countries = rank_independent_variable('')[:10]\n",
    "print(countries)\n",
    "for country in countries:\n",
    "    lis.append(list(df[df['iso_code'] == country]['death_rate']))\n",
    "\n",
    "print(len(lis))\n",
    "lis = list(map(list, zip(*lis)))\n",
    "print(len(lis))\n",
    "df_plot = pd.DataFrame(lis, columns = countries)\n",
    "df_plot['date'] = df['date']"
   ]
  },
  {
   "cell_type": "code",
   "execution_count": null,
   "metadata": {},
   "outputs": [],
   "source": []
  },
  {
   "cell_type": "code",
   "execution_count": 217,
   "metadata": {},
   "outputs": [
    {
     "data": {
      "text/plain": [
       "<AxesSubplot:xlabel='date'>"
      ]
     },
     "execution_count": 217,
     "metadata": {},
     "output_type": "execute_result"
    },
    {
     "data": {
      "image/png": "[encoded data removed]",
      "text/plain": [
       "<Figure size 432x288 with 1 Axes>"
      ]
     },
     "metadata": {
      "needs_background": "light"
     },
     "output_type": "display_data"
    }
   ],
   "source": [
    "df_plot.date = pd.to_datetime(df_plot.date)\n",
    "df_plot.set_index('date',inplace = True)\n",
    "df_plot.plot()\n"
   ]
  },
  {
   "cell_type": "code",
   "execution_count": null,
   "metadata": {},
   "outputs": [],
   "source": []
  },
  {
   "cell_type": "code",
   "execution_count": 223,
   "metadata": {},
   "outputs": [
    {
     "name": "stdout",
     "output_type": "stream",
     "text": [
      "relationship between: gdp_per_capita & death_rate\n",
      "31 countries not accounted for\n",
      "Pearsons correlation: 0.056\n"
     ]
    },
    {
     "data": {
      "image/png": "[encoded data removed]",
      "text/plain": [
       "<Figure size 360x360 with 1 Axes>"
      ]
     },
     "metadata": {
      "needs_background": "light"
     },
     "output_type": "display_data"
    }
   ],
   "source": [
    "\n",
    "\n",
    "relate('gdp_per_capita', 'death_rate' )"
   ]
  },
  {
   "cell_type": "code",
   "execution_count": null,
   "metadata": {},
   "outputs": [],
   "source": []
  }
 ],
 "metadata": {
  "kernelspec": {
   "display_name": "Python 3",
   "language": "python",
   "name": "python3"
  },
  "language_info": {
   "codemirror_mode": {
    "name": "ipython",
    "version": 3
   },
   "file_extension": ".py",
   "mimetype": "text/x-python",
   "name": "python",
   "nbconvert_exporter": "python",
   "pygments_lexer": "ipython3",
   "version": "3.7.6"
  }
 },
 "nbformat": 4,
 "nbformat_minor": 4
}
